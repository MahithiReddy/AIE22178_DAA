{
 "cells": [
  {
   "cell_type": "markdown",
   "metadata": {},
   "source": [
    "# LAB-4"
   ]
  },
  {
   "cell_type": "code",
   "execution_count": 1,
   "metadata": {},
   "outputs": [
    {
     "name": "stdout",
     "output_type": "stream",
     "text": [
      "240.0\n"
     ]
    }
   ],
   "source": [
    "def fractional_knapsack(values, weights, capacity):\n",
    "\n",
    "    value_per_weight = [(v / w, v, w) for v, w in zip(values, weights)]\n",
    "    value_per_weight.sort(reverse=True)  \n",
    "    \n",
    "    total_value = 0\n",
    "    remaining_capacity = capacity\n",
    "\n",
    "    for val_per_w, val, wt in value_per_weight:\n",
    "        if wt <= remaining_capacity:\n",
    "            total_value += val\n",
    "            remaining_capacity -= wt\n",
    "        else:\n",
    "            total_value += val_per_w * remaining_capacity\n",
    "            break \n",
    "\n",
    "    return total_value\n",
    "\n",
    "values = [60, 100, 120]\n",
    "weights = [10, 20, 30]\n",
    "capacity = 50\n",
    "print(fractional_knapsack(values, weights, capacity))"
   ]
  },
  {
   "cell_type": "code",
   "execution_count": 5,
   "metadata": {},
   "outputs": [
    {
     "name": "stdout",
     "output_type": "stream",
     "text": [
      "40 is the maximum for the given array\n"
     ]
    }
   ],
   "source": [
    "def maximize_sum(arr):\n",
    "    arr.sort()\n",
    "\n",
    "    max_sum = 0\n",
    "\n",
    "    for i, num in enumerate(arr):\n",
    "        max_sum += num * i\n",
    "\n",
    "    return max_sum\n",
    "\n",
    "arr = [2, 5, 3, 4, 0]\n",
    "print(maximize_sum(arr),\"is the maximum for the given array\")"
   ]
  },
  {
   "cell_type": "code",
   "execution_count": 4,
   "metadata": {},
   "outputs": [
    {
     "name": "stdout",
     "output_type": "stream",
     "text": [
      "The minimum sum of product is 104\n"
     ]
    }
   ],
   "source": [
    "def min_sum_of_products(array_One, array_Two):\n",
    "    array_One.sort()\n",
    "    array_Two.sort(reverse=True)\n",
    "\n",
    "    min_sum = sum(a * b for a, b in zip(array_One, array_Two))\n",
    "\n",
    "    return min_sum\n",
    "\n",
    "array_One = [7, 5, 1, 4]\n",
    "array_Two = [6, 17, 9, 3]\n",
    "print(\"The minimum sum of product is\",min_sum_of_products(array_One, array_Two))\n"
   ]
  }
 ],
 "metadata": {
  "kernelspec": {
   "display_name": "Python 3",
   "language": "python",
   "name": "python3"
  },
  "language_info": {
   "codemirror_mode": {
    "name": "ipython",
    "version": 3
   },
   "file_extension": ".py",
   "mimetype": "text/x-python",
   "name": "python",
   "nbconvert_exporter": "python",
   "pygments_lexer": "ipython3",
   "version": "3.12.0"
  }
 },
 "nbformat": 4,
 "nbformat_minor": 2
}
